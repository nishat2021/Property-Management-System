{
  "cells": [
    {
      "cell_type": "markdown",
      "metadata": {
        "id": "view-in-github",
        "colab_type": "text"
      },
      "source": [
        "<a href=\"https://colab.research.google.com/github/nishat2021/Property-Management-System/blob/main/CSE110_LAB2.ipynb\" target=\"_parent\"><img src=\"https://colab.research.google.com/assets/colab-badge.svg\" alt=\"Open In Colab\"/></a>"
      ]
    },
    {
      "cell_type": "markdown",
      "metadata": {
        "id": "g9L52h_gi-fL"
      },
      "source": [
        "**Task1**"
      ]
    },
    {
      "cell_type": "code",
      "execution_count": null,
      "metadata": {
        "colab": {
          "base_uri": "https://localhost:8080/"
        },
        "id": "eWqSbb-cg0iq",
        "outputId": "424b1084-a069-43d5-be84-aa6449a74be7"
      },
      "outputs": [
        {
          "name": "stdout",
          "output_type": "stream",
          "text": [
            "30\n",
            "2\n",
            "Sum = 32\n",
            "Product = 60\n",
            "Difference = 28\n"
          ]
        }
      ],
      "source": [
        "num_1=int(input())\n",
        "num_2=int(input())\n",
        "sum=num_1+num_2\n",
        "product=num_1*num_2\n",
        "differ=num_1-num_2\n",
        "print(\"Sum =\" ,sum)\n",
        "print(\"Product =\",product)\n",
        "print(\"Difference =\" ,differ)\n"
      ]
    },
    {
      "cell_type": "markdown",
      "metadata": {
        "id": "EBpmn_tajGND"
      },
      "source": [
        "**Task2**"
      ]
    },
    {
      "cell_type": "code",
      "execution_count": null,
      "metadata": {
        "colab": {
          "base_uri": "https://localhost:8080/"
        },
        "id": "j9YuPJO5jLCK",
        "outputId": "4c0b57fd-9ed5-4594-9628-bc5e29ec2b1e"
      },
      "outputs": [
        {
          "name": "stdout",
          "output_type": "stream",
          "text": [
            "3.5\n",
            "Area is  38.48451000647496\n",
            "Circumference is  21.991148575128552\n"
          ]
        }
      ],
      "source": [
        "import math\n",
        "radius=float(input())\n",
        "area=math.pi*math.pow(radius,2)\n",
        "circum=2*math.pi*radius\n",
        "print(\"Area is \",area)\n",
        "print(\"Circumference is \",circum)\n",
        "\n"
      ]
    },
    {
      "cell_type": "markdown",
      "metadata": {
        "id": "GazEYZaEma2s"
      },
      "source": [
        "**Task3**"
      ]
    },
    {
      "cell_type": "code",
      "execution_count": null,
      "metadata": {
        "colab": {
          "base_uri": "https://localhost:8080/"
        },
        "id": "Hcw4PFL6mdmJ",
        "outputId": "f409b61a-4780-4b68-9dda-25ae0abf4bb9"
      },
      "outputs": [
        {
          "name": "stdout",
          "output_type": "stream",
          "text": [
            "11\n",
            "11\n",
            "The numbers are equal\n"
          ]
        }
      ],
      "source": [
        "num_1=int(input())\n",
        "num_2=int(input())\n",
        "if num_1>num_2:\n",
        "  print(\"First is greater\")\n",
        "elif num_2>num_1:\n",
        "   print(\"Second is greater\")\n",
        "else:\n",
        "  print(\"The numbers are equal\")\n"
      ]
    },
    {
      "cell_type": "markdown",
      "metadata": {
        "id": "W8h2Ox65oYRP"
      },
      "source": [
        "**Task4**"
      ]
    },
    {
      "cell_type": "code",
      "execution_count": null,
      "metadata": {
        "colab": {
          "base_uri": "https://localhost:8080/"
        },
        "id": "Cv1n5PNkob3r",
        "outputId": "4ded2e67-8b6e-4177-fa5c-129a8f71f3c9"
      },
      "outputs": [
        {
          "name": "stdout",
          "output_type": "stream",
          "text": [
            "5\n",
            "5\n",
            "0\n"
          ]
        }
      ],
      "source": [
        "num_1=int(input())\n",
        "num_2=int(input())\n",
        "if num_1>num_2:\n",
        "  sub=num_1-num_2\n",
        "  print(sub)\n",
        "else:\n",
        "  sub=num_2-num_1\n",
        "  print(sub)\n"
      ]
    },
    {
      "cell_type": "markdown",
      "metadata": {
        "id": "wpJfG0R6rssI"
      },
      "source": [
        "**Task5**"
      ]
    },
    {
      "cell_type": "code",
      "execution_count": null,
      "metadata": {
        "colab": {
          "base_uri": "https://localhost:8080/"
        },
        "id": "DJkEfAGbrw_P",
        "outputId": "f8f276af-3995-413d-d7a7-e70ffc25ec0a"
      },
      "outputs": [
        {
          "name": "stdout",
          "output_type": "stream",
          "text": [
            "-44\n",
            "The number is even\n"
          ]
        }
      ],
      "source": [
        "num_1=int(input())\n",
        "if num_1%2==0:\n",
        "  print(\"The number is even\")\n",
        "else:\n",
        "  print(\"The number is odd\")\n"
      ]
    },
    {
      "cell_type": "markdown",
      "metadata": {
        "id": "GkDxJ2bqs1p9"
      },
      "source": [
        "**Task6**"
      ]
    },
    {
      "cell_type": "code",
      "execution_count": null,
      "metadata": {
        "colab": {
          "base_uri": "https://localhost:8080/"
        },
        "id": "SmanxD4gs7oO",
        "outputId": "032c3bc9-53b2-4219-8438-66d663d6176f"
      },
      "outputs": [
        {
          "name": "stdout",
          "output_type": "stream",
          "text": [
            "3\n",
            "Not a multiple of 2 OR 5\n"
          ]
        }
      ],
      "source": [
        "num_1=int(input())\n",
        "if num_1%2==0 or num_1%5==0:\n",
        "  print(num_1)\n",
        "else:\n",
        "  print(\"Not a multiple of 2 OR 5\")\n"
      ]
    },
    {
      "cell_type": "markdown",
      "metadata": {
        "id": "W4PIkkHPuUzp"
      },
      "source": [
        "**Task7**"
      ]
    },
    {
      "cell_type": "code",
      "execution_count": null,
      "metadata": {
        "colab": {
          "base_uri": "https://localhost:8080/"
        },
        "id": "CWe3fhJMuUYL",
        "outputId": "3fd981eb-46b9-40b5-cdd0-cce29e9b4c0e"
      },
      "outputs": [
        {
          "name": "stdout",
          "output_type": "stream",
          "text": [
            "6\n",
            "6\n"
          ]
        }
      ],
      "source": [
        "n=int(input())\n",
        "if n%2==0 and n%5==0:\n",
        "  print(\"Multiple of 2 and 5 both\")\n",
        "elif n%2==0 or n%5==0:\n",
        "  print(n)\n",
        "else:\n",
        "  print(\"Not a multiple we want\")"
      ]
    },
    {
      "cell_type": "markdown",
      "metadata": {
        "id": "zfziiTcfySx7"
      },
      "source": [
        "**Task8**"
      ]
    },
    {
      "cell_type": "code",
      "execution_count": null,
      "metadata": {
        "colab": {
          "base_uri": "https://localhost:8080/"
        },
        "id": "KuG0ZKoByUnK",
        "outputId": "69fe7e0c-ec03-42d8-e9cd-299466782bfd"
      },
      "outputs": [
        {
          "name": "stdout",
          "output_type": "stream",
          "text": [
            "6\n",
            "Not a multiple of 2 and 5 both\n"
          ]
        }
      ],
      "source": [
        "n=int(input())\n",
        "if n%2==0 and n%5==0:\n",
        "  print(n)\n",
        "else:\n",
        "  print(\"Not a multiple of 2 and 5 both\")"
      ]
    },
    {
      "cell_type": "markdown",
      "metadata": {
        "id": "SJi3cqkDzN9m"
      },
      "source": [
        "**Task9**"
      ]
    },
    {
      "cell_type": "code",
      "execution_count": null,
      "metadata": {
        "colab": {
          "base_uri": "https://localhost:8080/"
        },
        "id": "Ujw8uFxuzQI3",
        "outputId": "8fd23618-c4e8-418a-c4a7-9761ed4c7462"
      },
      "outputs": [
        {
          "name": "stdout",
          "output_type": "stream",
          "text": [
            "10000\n",
            "Hours: 2 Minutes: 46 Seconds: 40\n"
          ]
        }
      ],
      "source": [
        "sec=int(input())\n",
        "hour=sec//3600\n",
        "sec=sec%3600\n",
        "min=sec//60\n",
        "sec=sec%60\n",
        "print(\"Hours:\",hour ,\"Minutes:\",min, \"Seconds:\",sec,)"
      ]
    },
    {
      "cell_type": "markdown",
      "metadata": {
        "id": "BzmSLHG62J6l"
      },
      "source": [
        "**Task10**"
      ]
    },
    {
      "cell_type": "code",
      "execution_count": null,
      "metadata": {
        "colab": {
          "base_uri": "https://localhost:8080/"
        },
        "id": "MCpcVM_m2L8T",
        "outputId": "17fa7748-d1eb-44f6-a17f-7e60aaaf046a"
      },
      "outputs": [
        {
          "name": "stdout",
          "output_type": "stream",
          "text": [
            "170\n",
            "Impossible to work more than 168 hours weekly\n"
          ]
        }
      ],
      "source": [
        "hour=int(input())\n",
        "if hour<0:\n",
        "  print(\"Hour cannot be negative\")\n",
        "elif hour>168:\n",
        "  print(\"Impossible to work more than 168 hours weekly\")\n",
        "\n",
        "elif hour<=40:\n",
        "  Weekly_salary=hour*200\n",
        "  print(Weekly_salary)\n",
        "elif hour>40:\n",
        "  Weekly_salary=8000+(hour-40)*300\n",
        "  print(Weekly_salary)\n"
      ]
    },
    {
      "cell_type": "markdown",
      "metadata": {
        "id": "JvTBtKNqTPsM"
      },
      "source": [
        "**Task11**"
      ]
    },
    {
      "cell_type": "code",
      "execution_count": null,
      "metadata": {
        "colab": {
          "base_uri": "https://localhost:8080/"
        },
        "id": "pKcagVOcTT6g",
        "outputId": "f69f8d92-d2da-4e50-bd26-2bcfd13ed853"
      },
      "outputs": [
        {
          "output_type": "stream",
          "name": "stdout",
          "text": [
            "120\n",
            "2416.2162162162163\n"
          ]
        }
      ],
      "source": [
        "\n",
        "S=int(input())\n",
        "if S<100:\n",
        "  L=3000-125*S**2\n",
        "  print(L)\n",
        "else:\n",
        "  L=12000/(4+S**2/14900)\n",
        "  print((L))"
      ]
    },
    {
      "cell_type": "markdown",
      "metadata": {
        "id": "CtZ1uKgvo1uC"
      },
      "source": [
        "**Task12**"
      ]
    },
    {
      "cell_type": "code",
      "execution_count": null,
      "metadata": {
        "colab": {
          "background_save": true
        },
        "id": "VIkxa5zao3yf",
        "outputId": "8756d04e-ac20-4686-bec0-c8bb19e48547"
      },
      "outputs": [
        {
          "name": "stdout",
          "output_type": "stream",
          "text": [
            "Wrong time\n"
          ]
        }
      ],
      "source": [
        "hour=int(input())\n",
        "if hour>=4 and hour<=6:\n",
        "  print(\"Breakfast\")\n",
        "elif hour>=12 and hour<=13:\n",
        "  print(\"Lunch\")\n",
        "elif hour>=16 and hour<=17:\n",
        "  print(\"Snacks\")\n",
        "elif hour>=19 and hour<=20:\n",
        "  print(\"Dinner\")\n",
        "elif hour>0 and hour<24:\n",
        "  print(\"Patient is a virtue\")\n",
        "else:\n",
        "  print(\"Wrong time\")"
      ]
    },
    {
      "cell_type": "markdown",
      "source": [
        "**Task13**"
      ],
      "metadata": {
        "id": "KjQDmenv4HBY"
      }
    },
    {
      "cell_type": "code",
      "source": [
        "mark=int(input())\n",
        "if mark>=90 and mark<=100:\n",
        "  print(\"A\")\n",
        "elif mark>=80 and mark<=89:\n",
        "  print(\"B\")\n",
        "elif mark>=70 and mark<=79:\n",
        "  print(\"C\")\n",
        "elif mark>=60 and mark<=69:\n",
        "  print(\"D\")\n",
        "elif mark>=50 and mark<=59:\n",
        "  print(\"E\")\n",
        "elif mark<50:\n",
        "  print(\"F\")\n"
      ],
      "metadata": {
        "colab": {
          "base_uri": "https://localhost:8080/"
        },
        "id": "79vGRe4D4Og6",
        "outputId": "460a6522-9758-4cc5-c963-e782dbe1613e"
      },
      "execution_count": null,
      "outputs": [
        {
          "output_type": "stream",
          "name": "stdout",
          "text": [
            "44\n",
            "F\n"
          ]
        }
      ]
    },
    {
      "cell_type": "markdown",
      "source": [
        "**Task14**"
      ],
      "metadata": {
        "id": "Lnlfac_b6S1O"
      }
    },
    {
      "cell_type": "code",
      "source": [
        "distance=int(input())\n",
        "time=int(input())\n",
        "distanceinkm=distance/1000\n",
        "timeinhour=time/3600\n",
        "velocity=distanceinkm/timeinhour\n",
        "if velocity<60:\n",
        "  print(velocity)\n",
        "  print(\"Too slow. Needs more changes.\")\n",
        "elif velocity>=60 and velocity<=90:\n",
        "  print(velocity)\n",
        "  print(\"Velocity is okay. The car is ready!\")\n",
        "elif velocity>90:\n",
        "  print(velocity)\n",
        "  print(\"Too fast. Only a few changes should suffice.\")"
      ],
      "metadata": {
        "colab": {
          "base_uri": "https://localhost:8080/"
        },
        "id": "wzXXxoTd6YgF",
        "outputId": "58293640-0e46-4ace-cc3b-d3fe68972cbd"
      },
      "execution_count": null,
      "outputs": [
        {
          "output_type": "stream",
          "name": "stdout",
          "text": [
            "25400\n",
            "3600\n",
            "25.4\n",
            "Too slow. Needs more changes.\n"
          ]
        }
      ]
    },
    {
      "cell_type": "markdown",
      "source": [
        "**Task15**"
      ],
      "metadata": {
        "id": "0i36DknHMrB_"
      }
    },
    {
      "cell_type": "code",
      "source": [
        "cgpa=float(input())\n",
        "credit=int(input())\n",
        "if credit>=30 and cgpa>=3.80 and cgpa<=3.89:\n",
        "  print(\"The student is eligible for a waiver of 25  percent\")\n",
        "elif credit>=30 and cgpa>=3.90 and cgpa<=3.94:\n",
        "  print(\"The student is eligible for a waiver of 50 percent\")\n",
        "elif credit>=30 and cgpa>=3.95 and cgpa<=3.99:\n",
        "  print(\"The student is eligible for a waiver of 75 percent\")\n",
        "elif credit>=30 and cgpa==4.00:\n",
        "  print(\"The student is eligible for a waiver of 100 percent\")\n",
        "else:\n",
        "  print(\"The student is not eligible for a waiver\")"
      ],
      "metadata": {
        "colab": {
          "base_uri": "https://localhost:8080/"
        },
        "id": "wWXRCuWEMvzw",
        "outputId": "1eb2031d-9712-4354-d7a4-a00323a740e5"
      },
      "execution_count": 4,
      "outputs": [
        {
          "output_type": "stream",
          "name": "stdout",
          "text": [
            "3.79\n",
            "30\n",
            "The student is not eligible for a waiver\n"
          ]
        }
      ]
    },
    {
      "cell_type": "markdown",
      "source": [
        "**Task16**"
      ],
      "metadata": {
        "id": "qk9HXZQw8e9u"
      }
    },
    {
      "cell_type": "code",
      "source": [
        "p = 5\n",
        "q = 6\n",
        "r = 9\n",
        "sum = 0\n",
        "if (p < 12):\n",
        "    print(r + 2)\n",
        "else:\n",
        "    print(r + p)\n",
        "if (q > 20):\n",
        "    print(r + 19)\n",
        "elif (q <= 6):\n",
        "    print(q + 3)\n",
        "else:\n",
        "    print(p + q + r)\n",
        "if (r > 15):\n",
        "    print(r)\n",
        "elif (r == 0):\n",
        "    print(p + q)\n",
        "else:\n",
        "    print(p)\n",
        "if (sum != 0):\n",
        "    print(3)\n",
        "else:\n",
        "    print(sum + 32)\n",
        "if (p>0 and r<10):\n",
        "    print(p+r)\n",
        "else:\n",
        "    print(p-r)\n",
        "\n"
      ],
      "metadata": {
        "colab": {
          "base_uri": "https://localhost:8080/"
        },
        "id": "b_cEU6h48h1e",
        "outputId": "7f7123e7-251c-416c-a116-7852244f813d"
      },
      "execution_count": null,
      "outputs": [
        {
          "output_type": "stream",
          "name": "stdout",
          "text": [
            "11\n",
            "9\n",
            "5\n",
            "32\n",
            "14\n"
          ]
        }
      ]
    },
    {
      "cell_type": "markdown",
      "source": [
        "**Task17**"
      ],
      "metadata": {
        "id": "DzZ3x7BhEzcJ"
      }
    },
    {
      "cell_type": "code",
      "source": [
        "var1 = var2 = var3 = var4 = var5 = var6 = False\n",
        "result1 = False\n",
        "result2 = False\n",
        "result3 = False\n",
        "result4 = False\n",
        "result5 = False\n",
        "result6 = False\n",
        "result7 = False\n",
        "result8 = False\n",
        "result9 = False\n",
        "result10 = False\n",
        "var1 = 4 > 3 - 1\n",
        "var2 = var1 and False\n",
        "var3 = True\n",
        "var4 = False\n",
        "var5 = True\n",
        "var6 = var3 and False\n",
        "result1 = (var1 or var2) and (8 * 10 > 45)\n",
        "result2 = (var1 or var2) and (result1 and False)\n",
        "result3 = (var1 and result1) or result2\n",
        "result4 = (var1 or var2) or ((var3 and var1) and False)\n",
        "result5 = (var1 and var2) and (result3 or var1)\n",
        "result6 = ((var3 or var2) and not(result5)) or True\n",
        "result7 = (var4 and result1) and ((result1 and False) or True)\n",
        "result8 = ((var1 and result3) and (var5 or var6)) and True\n",
        "result9 = ((result2 and var2) or (result7 and var1)) and False\n",
        "result10 = not(var1 and True)\n",
        "\n",
        "\n",
        "print(result1)\n",
        "print(result2)\n",
        "print(result3)\n",
        "print(result4)\n",
        "print(result5)\n",
        "print(result6)\n",
        "print(result7)\n",
        "print(result8)\n",
        "print(result9)\n",
        "print(result10)\n",
        "\n",
        "\n",
        "\n"
      ],
      "metadata": {
        "colab": {
          "base_uri": "https://localhost:8080/"
        },
        "id": "mOpVNSLWE2KB",
        "outputId": "f56f2aa2-f954-459e-89de-9124a56ea9cf"
      },
      "execution_count": null,
      "outputs": [
        {
          "output_type": "stream",
          "name": "stdout",
          "text": [
            "True\n",
            "False\n",
            "True\n",
            "True\n",
            "False\n",
            "True\n",
            "False\n",
            "True\n",
            "False\n",
            "False\n"
          ]
        }
      ]
    },
    {
      "cell_type": "markdown",
      "source": [
        "**task18**"
      ],
      "metadata": {
        "id": "ws3Kxm4QLz-U"
      }
    },
    {
      "cell_type": "code",
      "source": [
        "var1 = False\n",
        "var2 = False\n",
        "var3 = False\n",
        "var4 = False\n",
        "var5 = False\n",
        "var6 = False\n",
        "result1 = False\n",
        "result2 = False\n",
        "result3 = False\n",
        "result4 = False\n",
        "result5 = False\n",
        "result6 = False\n",
        "result7 = False\n",
        "result8 = False\n",
        "result9 = False\n",
        "result10 = False\n",
        "var1 = ((not True) or True) and False\n",
        "var2 = var1 and False\n",
        "var3 = True and not False\n",
        "var4 = False\n",
        "var5 = True\n",
        "var6 = var3 and False\n",
        "result1 = (var1 and var2) and (40 % 3) > 45 or (var5 and var6)\n",
        "result2 = (var1 or var2) or (result1 and False)\n",
        "result3 = (var1 and result1) or result2 or var5\n",
        "result4 = (var1 or var2) or ((var3 and var1) and False)\n",
        "result5 = (var1 and var2) and (result3 or var1)\n",
        "result6 = ((var3 or (not var2)) and (result5)) or True\n",
        "result7 = (var4 and result1) and ((result1 and False) or True)\n",
        "result8 = ((var1 and result3) and ((not var5) or var6)) and True\n",
        "result9 = ((result2 and var2) or ((not result7) and var1)) and not False\n",
        "result10 = not(var1 and True)\n",
        "print(result1)\n",
        "print(result2)\n",
        "print(result3)\n",
        "print(result4)\n",
        "print(result5)\n",
        "print(result6)\n",
        "print(result7)\n",
        "print(result8)\n",
        "print(result9)\n",
        "print(result10)\n",
        "\n"
      ],
      "metadata": {
        "colab": {
          "base_uri": "https://localhost:8080/"
        },
        "id": "yYSVFy9AL2Q7",
        "outputId": "aa47bbe4-e9d7-40a4-b7b0-c310f1f4c76f"
      },
      "execution_count": null,
      "outputs": [
        {
          "output_type": "stream",
          "name": "stdout",
          "text": [
            "False\n",
            "False\n",
            "True\n",
            "False\n",
            "False\n",
            "True\n",
            "False\n",
            "False\n",
            "False\n",
            "True\n"
          ]
        }
      ]
    },
    {
      "cell_type": "markdown",
      "source": [
        "**task19**"
      ],
      "metadata": {
        "id": "bS6EwsONLtV8"
      }
    },
    {
      "cell_type": "code",
      "source": [
        "var1 = var2 = var3 = var4 = var5 = var6 = False\n",
        "result1 = result2 = result3 = result4 = result5 = result6 = False\n",
        "result7 = result8 = result9 = result10 = False\n",
        "var1 = (not False or False) and True\n",
        "var2 = var1 and True\n",
        "var3 = False and not True\n",
        "var4 = True\n",
        "var5 = False\n",
        "var6 = var3 and True\n",
        "result1 = (var1 and var2) and ( 40 % 3 > 45) or (var5 and var6)\n",
        "result2 = (var1 or var2) or (result1 and False)\n",
        "result3 = (var1 and result1) or result2 or var5\n",
        "result4 = (var1 or var2) or ((var3 and var1) and False)\n",
        "result5 = (var1 and var2) and (result3 or var1)\n",
        "result6 = ((var3 or not var2) and (result5)) or True\n",
        "result7 = (var4 and result1) and ((result1 and False) or True)\n",
        "result8 = ((var1 and result3) and (not var5 or var6)) and True\n",
        "result9 = ((result2 and var2) or (not result7 and var1)) and not False\n",
        "result10 = not (var1 and True)\n",
        "print(result1)\n",
        "print(result2)\n",
        "print(result3)\n",
        "print(result4)\n",
        "print(result5)\n",
        "print(result6)\n",
        "print(result7)\n",
        "print(result8)\n",
        "print(result9)\n",
        "print(result10)\n",
        "\n"
      ],
      "metadata": {
        "colab": {
          "base_uri": "https://localhost:8080/"
        },
        "id": "Dvh733hOLvyw",
        "outputId": "7296a21b-4869-4fc6-e623-f157ecbb1a95"
      },
      "execution_count": 1,
      "outputs": [
        {
          "output_type": "stream",
          "name": "stdout",
          "text": [
            "False\n",
            "True\n",
            "True\n",
            "True\n",
            "True\n",
            "True\n",
            "False\n",
            "True\n",
            "True\n",
            "False\n"
          ]
        }
      ]
    },
    {
      "cell_type": "markdown",
      "source": [
        "**Task20**"
      ],
      "metadata": {
        "id": "8n1-q4cpPlAo"
      }
    },
    {
      "cell_type": "code",
      "source": [
        "num=int(input())\n",
        "if num%2!=0 and num%5!=0:\n",
        "  print(num)\n",
        "else:\n",
        "  print(\"No\")"
      ],
      "metadata": {
        "colab": {
          "base_uri": "https://localhost:8080/"
        },
        "id": "hLzgDZ41P7eB",
        "outputId": "92edbdd7-51d9-4189-d6ed-f98d752e0269"
      },
      "execution_count": 8,
      "outputs": [
        {
          "output_type": "stream",
          "name": "stdout",
          "text": [
            "3\n",
            "3\n"
          ]
        }
      ]
    },
    {
      "cell_type": "markdown",
      "source": [
        "**TASk21**"
      ],
      "metadata": {
        "id": "PhZkf6q7Qo6v"
      }
    },
    {
      "cell_type": "code",
      "source": [
        "num=int(input())\n",
        "if num%2!=0 or num%5!=0:\n",
        "  print(num)\n",
        "else:\n",
        "  print(\"No\")"
      ],
      "metadata": {
        "colab": {
          "base_uri": "https://localhost:8080/"
        },
        "id": "015pJlOtQrmA",
        "outputId": "755ad789-acaa-4f5f-e53c-1990738608f6"
      },
      "execution_count": 12,
      "outputs": [
        {
          "output_type": "stream",
          "name": "stdout",
          "text": [
            "14\n",
            "14\n"
          ]
        }
      ]
    },
    {
      "cell_type": "markdown",
      "source": [
        "**Task22**"
      ],
      "metadata": {
        "id": "-jYvbkdxRLUU"
      }
    },
    {
      "cell_type": "code",
      "source": [
        "canvas=int(input())\n",
        "paint=int(input())\n",
        "total_amount=canvas*120+paint*75\n",
        "if total_amount>=0 and total_amount<=299:\n",
        "  print(\"Previous total: \",total_amount)\n",
        "  print(\"New total after discount: \",total_amount)\n",
        "elif total_amount>=300 and total_amount<=499:\n",
        "  print(\"Previous total: \",total_amount)\n",
        "  print(\"New total after discount: \",total_amount-10)\n",
        "elif total_amount>=500 and total_amount<=749:\n",
        "   print(\"Previous total: \",total_amount)\n",
        "   print(\"New total after discount: \",total_amount-20)\n",
        "elif total_amount>=750 and total_amount<=999:\n",
        "   print(\"Previous total: \",total_amount)\n",
        "   print(\"New total after discount: \",total_amount-50)\n",
        "elif total_amount>=1000:\n",
        "   print(\"Previous total: \",total_amount)\n",
        "   print(\"New total after discount: \",total_amount-150)\n"
      ],
      "metadata": {
        "colab": {
          "base_uri": "https://localhost:8080/"
        },
        "id": "DZQyWiXRRPGe",
        "outputId": "79e1c612-2527-4079-f7f7-5a52b9d9b2ee"
      },
      "execution_count": 15,
      "outputs": [
        {
          "output_type": "stream",
          "name": "stdout",
          "text": [
            "0\n",
            "3\n",
            "Previous total:  225\n",
            "New total after discount:  225\n"
          ]
        }
      ]
    },
    {
      "cell_type": "markdown",
      "source": [
        "**Task23**"
      ],
      "metadata": {
        "id": "c84kThJ5VTW0"
      }
    },
    {
      "cell_type": "code",
      "source": [
        "import math\n",
        "tem=int(input())\n",
        "degree=math.floor((tem-32)*0.56)\n",
        "if degree<20:\n",
        "  print(degree,\"degrees C\")\n",
        "  print(\"Winter\")\n",
        "elif degree>=20 and degree<=25:\n",
        "  print(degree,\"degrees C\")\n",
        "  print(\"Autumn\")\n",
        "elif degree>25 and degree<30:\n",
        "  print(degree,\"degrees C\")\n",
        "  print(\"Spring\")\n",
        "elif degree>=30:\n",
        "  print(degree,\"degrees C\")\n",
        "  print(\"Summer\")\n",
        "\n"
      ],
      "metadata": {
        "colab": {
          "base_uri": "https://localhost:8080/"
        },
        "id": "FxQo9dErVV5E",
        "outputId": "46280358-1ddf-450d-8e15-849d9d2e26f8"
      },
      "execution_count": 19,
      "outputs": [
        {
          "output_type": "stream",
          "name": "stdout",
          "text": [
            "76\n",
            "24 degrees C\n",
            "Autumn\n"
          ]
        }
      ]
    }
  ],
  "metadata": {
    "colab": {
      "provenance": [],
      "authorship_tag": "ABX9TyNlz9wiWchN0OzPCvvD+ffq",
      "include_colab_link": true
    },
    "kernelspec": {
      "display_name": "Python 3",
      "name": "python3"
    },
    "language_info": {
      "name": "python"
    }
  },
  "nbformat": 4,
  "nbformat_minor": 0
}